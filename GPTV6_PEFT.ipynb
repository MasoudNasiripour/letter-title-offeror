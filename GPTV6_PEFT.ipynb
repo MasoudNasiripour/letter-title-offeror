{
 "cells": [
  {
   "cell_type": "code",
   "execution_count": 1,
   "metadata": {},
   "outputs": [
    {
     "name": "stderr",
     "output_type": "stream",
     "text": [
      "/home/mnasiri/masoud_nasiripour/second_phase/gpt/venv/lib/python3.10/site-packages/tqdm/auto.py:21: TqdmWarning: IProgress not found. Please update jupyter and ipywidgets. See https://ipywidgets.readthedocs.io/en/stable/user_install.html\n",
      "  from .autonotebook import tqdm as notebook_tqdm\n"
     ]
    }
   ],
   "source": [
    "import os\n",
    "import json\n",
    "\n",
    "import torch\n",
    "import torch.nn as nn\n",
    "import torch.nn.functional as F\n",
    "import torch.optim as optim\n",
    "\n",
    "from torch.utils.data import Dataset as BaseDataset\n",
    "from torch.utils.data import DataLoader as BaseDataLoader\n",
    "\n",
    "from transformers import GPT2Tokenizer, AutoModelForCausalLM, GPT2LMHeadModel, AutoTokenizer\n",
    "from transformers import TrainingArguments, Trainer\n",
    "\n",
    "from peft import LoraConfig, get_peft_model\n",
    "\n",
    "from datasets import load_dataset\n",
    "\n",
    "device=\"cuda\""
   ]
  },
  {
   "cell_type": "code",
   "execution_count": 2,
   "metadata": {},
   "outputs": [
    {
     "data": {
      "text/plain": [
       "1"
      ]
     },
     "execution_count": 2,
     "metadata": {},
     "output_type": "execute_result"
    }
   ],
   "source": [
    "tokenizer = AutoTokenizer.from_pretrained(\"bolbolzaban/gpt2-persian\")\n",
    "tokenizer.add_special_tokens({\"additional_special_tokens\": [\"<title>\", ]})"
   ]
  },
  {
   "cell_type": "code",
   "execution_count": 3,
   "metadata": {},
   "outputs": [],
   "source": [
    "config = {\n",
    "    \"emb_dim\" : 768,\n",
    "    \"letter_emb_dim\": 1024,\n",
    "    \"vocab_size\" : tokenizer.vocab_size,\n",
    "    \"save_path\": \"./models/v6_peft.pth\"\n",
    "}"
   ]
  },
  {
   "cell_type": "code",
   "execution_count": 4,
   "metadata": {},
   "outputs": [],
   "source": [
    "class Dataset(BaseDataset):\n",
    "    def __init__(self, tokenizer):\n",
    "        self.tokenizer = tokenizer\n",
    "        self.data = load_dataset(\"csv\", data_files=\"dataset.csv\")[\"train\"]\n",
    "\n",
    "    def __getitem__(self, ix):\n",
    "        item = self.data[ix]\n",
    "        return item\n",
    "\n",
    "\n",
    "    def __len__(self, ):\n",
    "        return len(self.data)\n"
   ]
  },
  {
   "cell_type": "code",
   "execution_count": 5,
   "metadata": {},
   "outputs": [],
   "source": [
    "class CustomCollator:\n",
    "    def __call__(self, batch):\n",
    "        titles = [\"<title>\" + item[\"title\"] for item in batch if item is not None]\n",
    "        ctx_embs = torch.tensor([json.loads(item[\"context_embedding\"]) for item in batch if item is not None], dtype=torch.float)\n",
    "\n",
    "        tokenized_title = tokenizer(titles,\n",
    "                  padding=\"max_length\",\n",
    "                  truncation=True,\n",
    "                  return_tensors=\"pt\",\n",
    "                  max_length=256)\n",
    "        \n",
    "        attention_mask = torch.stack([torch.cat([torch.tensor([1,], dtype=torch.long), mask], dim=-1) for mask in tokenized_title[\"attention_mask\"]]).to(device)\n",
    "\n",
    "        input_ids = tokenized_title[\"input_ids\"][:, :-1].long()\n",
    "        targets = tokenized_title[\"input_ids\"]\n",
    "        targets = targets.masked_fill(targets == tokenizer.pad_token_id, -100)\n",
    "\n",
    "        return {\n",
    "            \"attention_mask\": attention_mask[:, :-1].to(device),\n",
    "            \"letter_emb\": ctx_embs.to(device),\n",
    "            \"input_ids\": input_ids.to(device),\n",
    "            \"label\": targets.to(device)\n",
    "        }\n",
    "\n",
    "dataset = Dataset(tokenizer)\n",
    "collator_fn = CustomCollator()"
   ]
  },
  {
   "cell_type": "code",
   "execution_count": 6,
   "metadata": {},
   "outputs": [
    {
     "name": "stdout",
     "output_type": "stream",
     "text": [
      "check model existance...\n",
      "Loading the model...\n",
      "number of trainable params: 40108288\n",
      "loaded successfully!\n"
     ]
    }
   ],
   "source": [
    "class Model(nn.Module):\n",
    "\n",
    "    def __init__(self, tokenizer, config):\n",
    "        super().__init__()\n",
    "        self.tokenizer = tokenizer\n",
    "        self.letter_projection = nn.Sequential(nn.Linear(config[\"letter_emb_dim\"], config[\"letter_emb_dim\"] // 2),\n",
    "                                                nn.Linear(config[\"letter_emb_dim\"] // 2, config[\"emb_dim\"]))\n",
    "        self.gpt = GPT2LMHeadModel.from_pretrained(\"gpt2\")\n",
    "        self.gpt.resize_token_embeddings(len(tokenizer))\n",
    "\n",
    "        tp = 0\n",
    "        for p in self.letter_projection.parameters():\n",
    "            tp += p.numel()\n",
    "            p.requires_grad=True\n",
    "        for p in self.gpt.lm_head.parameters():\n",
    "            tp += p.numel()\n",
    "            p.requires_grad=True\n",
    "        for p in self.gpt.transformer.wte.parameters():\n",
    "            tp += p.numel()\n",
    "            p.requires_grad=True\n",
    "        for p in self.gpt.transformer.wpe.parameters():\n",
    "            tp += p.numel()\n",
    "            p.requires_grad=True\n",
    "        \n",
    "        print(\"number of trainable params:\", tp)\n",
    "\n",
    "\n",
    "    @classmethod\n",
    "    def from_pretrained(cls, tokenizer, config):\n",
    "        print(\"check model existance...\")\n",
    "        if os.path.isfile(config[\"save_path\"]):\n",
    "            print(\"Loading the model...\")\n",
    "            self = cls(tokenizer, config)\n",
    "            self.load_state_dict(torch.load(config[\"save_path\"], weights_only=True))\n",
    "            print(\"loaded successfully!\")\n",
    "        else:\n",
    "            print(f\"couldn't find the {config['save_path']} file!\")\n",
    "            print(\"Creating a new model...\")\n",
    "            self = cls(tokenizer, config)\n",
    "        return self\n",
    "\n",
    "    def save(self, ):\n",
    "        torch.save(self.state_dict(), config[\"save_path\"])\n",
    "        print(f\"Model saved at {config['save_path']}!\")\n",
    "    \n",
    "    def forward(self, attention_mask, letter_emb, input_ids, label):\n",
    "        letter_emb = self.letter_projection(letter_emb).unsqueeze(1)\n",
    "        x = self.gpt.transformer.wte(input_ids)\n",
    "        x += self.gpt.transformer.wpe(torch.arange(x.shape[1]).to(device))\n",
    "        x = torch.cat([letter_emb, x], dim=1)\n",
    "        output = self.gpt(inputs_embeds=x,\n",
    "            attention_mask=attention_mask,\n",
    "            return_dict=True,\n",
    "            labels=label\n",
    "        )\n",
    "        return output\n",
    "\n",
    "    \n",
    "    @torch.no_grad\n",
    "    def generate(self, letter_emb):\n",
    "        model.eval()\n",
    "        letter_emb = torch.tensor(json.loads(letter_emb)).view(1,1,-1).to(device)\n",
    "        letter_emb = self.letter_projection(letter_emb)\n",
    "        output = model.gpt.generate(\n",
    "        inputs_embeds=letter_emb,\n",
    "        attention_mask=torch.ones((1, 1), dtype=torch.long).to(device),\n",
    "        do_sample=True,\n",
    "        top_p=0.9,\n",
    "        temperature=0.9,\n",
    "        num_beams=5,\n",
    "        max_length=128,\n",
    "        min_length=1,\n",
    "        repetition_penalty=1.0,\n",
    "        length_penalty=1.0,\n",
    "        num_return_sequences=1,)\n",
    "        return self.tokenizer.batch_decode(output)\n",
    "\n",
    "model = Model.from_pretrained(tokenizer, config)\n",
    "model.to(device);"
   ]
  },
  {
   "cell_type": "code",
   "execution_count": 8,
   "metadata": {},
   "outputs": [],
   "source": [
    "train_args = TrainingArguments(\n",
    "    output_dir=\"./cache/\",\n",
    "    learning_rate=1e-3,\n",
    "    per_device_train_batch_size=8,\n",
    "    gradient_accumulation_steps=16,\n",
    "    num_train_epochs=10,\n",
    "    weight_decay=0.01,\n",
    "    lr_scheduler_type=\"linear\",\n",
    "    save_strategy=\"epoch\",\n",
    "    logging_steps=10,\n",
    "    logging_strategy=\"steps\",\n",
    "    remove_unused_columns=False,\n",
    "    dataloader_pin_memory=False,\n",
    "    save_safetensors=False,\n",
    ")\n",
    "\n",
    "trainer = Trainer(model=model,\n",
    "        args=train_args,\n",
    "        data_collator=collator_fn,\n",
    "        train_dataset=dataset)"
   ]
  },
  {
   "cell_type": "code",
   "execution_count": 9,
   "metadata": {},
   "outputs": [
    {
     "name": "stderr",
     "output_type": "stream",
     "text": [
      "`loss_type=None` was set in the config but it is unrecognised.Using the default loss: `ForCausalLMLoss`.\n"
     ]
    },
    {
     "data": {
      "text/html": [
       "\n",
       "    <div>\n",
       "      \n",
       "      <progress value='390' max='390' style='width:300px; height:20px; vertical-align: middle;'></progress>\n",
       "      [390/390 07:28, Epoch 9/10]\n",
       "    </div>\n",
       "    <table border=\"1\" class=\"dataframe\">\n",
       "  <thead>\n",
       " <tr style=\"text-align: left;\">\n",
       "      <th>Step</th>\n",
       "      <th>Training Loss</th>\n",
       "    </tr>\n",
       "  </thead>\n",
       "  <tbody>\n",
       "    <tr>\n",
       "      <td>10</td>\n",
       "      <td>7.220300</td>\n",
       "    </tr>\n",
       "    <tr>\n",
       "      <td>20</td>\n",
       "      <td>5.160000</td>\n",
       "    </tr>\n",
       "    <tr>\n",
       "      <td>30</td>\n",
       "      <td>4.593100</td>\n",
       "    </tr>\n",
       "    <tr>\n",
       "      <td>40</td>\n",
       "      <td>3.971000</td>\n",
       "    </tr>\n",
       "    <tr>\n",
       "      <td>50</td>\n",
       "      <td>3.810800</td>\n",
       "    </tr>\n",
       "    <tr>\n",
       "      <td>60</td>\n",
       "      <td>3.627700</td>\n",
       "    </tr>\n",
       "    <tr>\n",
       "      <td>70</td>\n",
       "      <td>3.447900</td>\n",
       "    </tr>\n",
       "    <tr>\n",
       "      <td>80</td>\n",
       "      <td>2.995900</td>\n",
       "    </tr>\n",
       "    <tr>\n",
       "      <td>90</td>\n",
       "      <td>3.018700</td>\n",
       "    </tr>\n",
       "    <tr>\n",
       "      <td>100</td>\n",
       "      <td>2.906900</td>\n",
       "    </tr>\n",
       "    <tr>\n",
       "      <td>110</td>\n",
       "      <td>2.720800</td>\n",
       "    </tr>\n",
       "    <tr>\n",
       "      <td>120</td>\n",
       "      <td>2.492700</td>\n",
       "    </tr>\n",
       "    <tr>\n",
       "      <td>130</td>\n",
       "      <td>2.284600</td>\n",
       "    </tr>\n",
       "    <tr>\n",
       "      <td>140</td>\n",
       "      <td>2.287400</td>\n",
       "    </tr>\n",
       "    <tr>\n",
       "      <td>150</td>\n",
       "      <td>2.265800</td>\n",
       "    </tr>\n",
       "    <tr>\n",
       "      <td>160</td>\n",
       "      <td>2.127800</td>\n",
       "    </tr>\n",
       "    <tr>\n",
       "      <td>170</td>\n",
       "      <td>1.822600</td>\n",
       "    </tr>\n",
       "    <tr>\n",
       "      <td>180</td>\n",
       "      <td>1.895900</td>\n",
       "    </tr>\n",
       "    <tr>\n",
       "      <td>190</td>\n",
       "      <td>1.808500</td>\n",
       "    </tr>\n",
       "    <tr>\n",
       "      <td>200</td>\n",
       "      <td>1.616900</td>\n",
       "    </tr>\n",
       "    <tr>\n",
       "      <td>210</td>\n",
       "      <td>1.451300</td>\n",
       "    </tr>\n",
       "    <tr>\n",
       "      <td>220</td>\n",
       "      <td>1.462100</td>\n",
       "    </tr>\n",
       "    <tr>\n",
       "      <td>230</td>\n",
       "      <td>1.489800</td>\n",
       "    </tr>\n",
       "    <tr>\n",
       "      <td>240</td>\n",
       "      <td>1.364000</td>\n",
       "    </tr>\n",
       "    <tr>\n",
       "      <td>250</td>\n",
       "      <td>1.222800</td>\n",
       "    </tr>\n",
       "    <tr>\n",
       "      <td>260</td>\n",
       "      <td>1.214500</td>\n",
       "    </tr>\n",
       "    <tr>\n",
       "      <td>270</td>\n",
       "      <td>1.235100</td>\n",
       "    </tr>\n",
       "    <tr>\n",
       "      <td>280</td>\n",
       "      <td>1.098400</td>\n",
       "    </tr>\n",
       "    <tr>\n",
       "      <td>290</td>\n",
       "      <td>1.038400</td>\n",
       "    </tr>\n",
       "    <tr>\n",
       "      <td>300</td>\n",
       "      <td>1.039000</td>\n",
       "    </tr>\n",
       "    <tr>\n",
       "      <td>310</td>\n",
       "      <td>1.011500</td>\n",
       "    </tr>\n",
       "    <tr>\n",
       "      <td>320</td>\n",
       "      <td>0.944500</td>\n",
       "    </tr>\n",
       "    <tr>\n",
       "      <td>330</td>\n",
       "      <td>0.873600</td>\n",
       "    </tr>\n",
       "    <tr>\n",
       "      <td>340</td>\n",
       "      <td>0.898000</td>\n",
       "    </tr>\n",
       "    <tr>\n",
       "      <td>350</td>\n",
       "      <td>0.891300</td>\n",
       "    </tr>\n",
       "    <tr>\n",
       "      <td>360</td>\n",
       "      <td>0.832500</td>\n",
       "    </tr>\n",
       "    <tr>\n",
       "      <td>370</td>\n",
       "      <td>0.782000</td>\n",
       "    </tr>\n",
       "    <tr>\n",
       "      <td>380</td>\n",
       "      <td>0.802500</td>\n",
       "    </tr>\n",
       "    <tr>\n",
       "      <td>390</td>\n",
       "      <td>0.801200</td>\n",
       "    </tr>\n",
       "  </tbody>\n",
       "</table><p>"
      ],
      "text/plain": [
       "<IPython.core.display.HTML object>"
      ]
     },
     "metadata": {},
     "output_type": "display_data"
    },
    {
     "name": "stdout",
     "output_type": "stream",
     "text": [
      "Model saved at ./models/v6_peft.pth!\n"
     ]
    }
   ],
   "source": [
    "trainer.train()\n",
    "model.save()"
   ]
  },
  {
   "cell_type": "code",
   "execution_count": null,
   "metadata": {},
   "outputs": [],
   "source": [
    "''.join(model.generate(dataset[0][\"context_embedding\"]), )"
   ]
  },
  {
   "cell_type": "code",
   "execution_count": null,
   "metadata": {},
   "outputs": [
    {
     "data": {
      "text/plain": [
       "tensor([[    5, 25001,     3]])"
      ]
     },
     "execution_count": 48,
     "metadata": {},
     "output_type": "execute_result"
    }
   ],
   "source": [
    "title_token = tokenizer(\"<title>\", return_tensors='pt')[\"input_ids\"]\n",
    "title_token"
   ]
  },
  {
   "cell_type": "code",
   "execution_count": 51,
   "metadata": {},
   "outputs": [
    {
     "data": {
      "text/plain": [
       "torch.Size([1, 1, 768])"
      ]
     },
     "execution_count": 51,
     "metadata": {},
     "output_type": "execute_result"
    }
   ],
   "source": [
    "model.gpt.transformer.wte(title_token[:, 1:2].to(device)).shape"
   ]
  },
  {
   "cell_type": "code",
   "execution_count": 14,
   "metadata": {},
   "outputs": [
    {
     "data": {
      "text/plain": [
       "5001"
      ]
     },
     "execution_count": 14,
     "metadata": {},
     "output_type": "execute_result"
    }
   ],
   "source": [
    "len(dataset)"
   ]
  },
  {
   "cell_type": "code",
   "execution_count": 13,
   "metadata": {},
   "outputs": [
    {
     "name": "stderr",
     "output_type": "stream",
     "text": [
      "Setting `pad_token_id` to `eos_token_id`:50256 for open-end generation.\n"
     ]
    },
    {
     "name": "stdout",
     "output_type": "stream",
     "text": [
      "Generated title: نشانیواژههایهای اتوماسیون\n",
      "True title: بازنشانی گذرواژه سامانه اتوماسیون اداری\n",
      "context: \n",
      "\n",
      "شماره: \n",
      "\n",
      "تاریخ: \n",
      "\n",
      "پیوست: \n",
      "دارد\n",
      "بسمه تعالی\n",
      "\n",
      "\n",
      "\n",
      "\n",
      "جناب آقای مهندس محمد شیخ\n",
      "مدیر عامل محترم شرکت تحلیلگران هوشمند فناوری اطلاعات امید\n",
      "\n",
      "با سلام و احترام\n",
      "بازگشت به نامه شماره ۵۸۵۵ ‏‏‏- ۰۳ ‏‏‏- ۱ مورخ ۱۵ ‏‏‏ / ۰۷ ‏‏‏ / ۱۴۰۳ در خصوص بازنشانی گذرواژه‏های سامانه اتوماسیون اداری به استحضار می‏رساند حسب هماهنگی‏های بعمل آمده عملیات مذکور در روز چهارشنبه مورخ ۰۲ ‏‏‏‏‏‏‏‏‏‏‏‏‏‏ / ۰۸ ‏‏‏‏‏‏‏‏‏‏‏‏‏‏ / ۱۴۰۳ توسط کارشناس این شرکت انجام و اطلاعات مربوطه به شرح پیوست جهت اعمال مدیریت‎های لازم و حفاظت از آن، حضورتان ارسال می‎گردد. \n",
      "لازم به ذکر است مسئولیت حفاظت و تغییرات گذرواژه‌های سیستم متوجه کارفرما بوده و پیمانکار در مواقع لزوم، در معیت کارفرما خدمات پشتیبانی لازم را ارائه خواهد نمود. \n",
      "\n",
      "\n",
      "\n",
      "با تشکر\n",
      "مهدی اسد بگی\n",
      "معاون امور فنی و پشتیبانی\n",
      "\n",
      "\n",
      "\n",
      "\n",
      "\n",
      "\n",
      "\n",
      "\n",
      "\n",
      "\n",
      "\n",
      "\n",
      "\n"
     ]
    }
   ],
   "source": [
    "ix = 10\n",
    "sample_data = dataset[ix]\n",
    "title_token = tokenizer(\"<title>\", return_tensors='pt')[\"input_ids\"]\n",
    "with torch.no_grad():\n",
    "    model.eval()\n",
    "    letter_emb = model.letter_projection(torch.tensor(json.loads(sample_data[\"context_embedding\"])).to(device).view(1, 1,-1))\n",
    "    x = model.gpt.transformer.wte(title_token[:, 1:2].to(device))\n",
    "    x += model.gpt.transformer.wpe(torch.arange(x.shape[1]).to(device))\n",
    "    letter_emb = torch.cat([letter_emb, x], dim=1)\n",
    "    output = model.gpt.generate(\n",
    "        inputs_embeds=letter_emb,\n",
    "        attention_mask=torch.ones((1, 1), dtype=torch.long).to(device),\n",
    "        do_sample=True,\n",
    "        top_p=0.9,\n",
    "        temperature=0.9,\n",
    "        num_beams=5,\n",
    "        max_length=16,\n",
    "        min_length=1,\n",
    "        repetition_penalty=1.0,\n",
    "        length_penalty=1.0,\n",
    "        num_return_sequences=1,\n",
    "    )\n",
    "\n",
    "    output_ids = tokenizer.batch_decode(output, skip_special_tokens=True)\n",
    "    print('Generated title:', ''.join(output_ids))\n",
    "    print('True title:', sample_data[\"title\"])\n",
    "    print('context:', sample_data[\"context\"])"
   ]
  }
 ],
 "metadata": {
  "kernelspec": {
   "display_name": "venv",
   "language": "python",
   "name": "python3"
  },
  "language_info": {
   "codemirror_mode": {
    "name": "ipython",
    "version": 3
   },
   "file_extension": ".py",
   "mimetype": "text/x-python",
   "name": "python",
   "nbconvert_exporter": "python",
   "pygments_lexer": "ipython3",
   "version": "3.10.12"
  }
 },
 "nbformat": 4,
 "nbformat_minor": 4
}
