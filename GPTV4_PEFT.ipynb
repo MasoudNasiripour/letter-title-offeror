{
 "cells": [
  {
   "cell_type": "code",
   "execution_count": 7,
   "metadata": {},
   "outputs": [],
   "source": [
    "import os\n",
    "import json\n",
    "\n",
    "import torch\n",
    "import torch.nn as nn\n",
    "import torch.nn.functional as F\n",
    "import torch.optim as optim\n",
    "\n",
    "from torch.utils.data import Dataset as BaseDataset\n",
    "from torch.utils.data import DataLoader as BaseDataLoader\n",
    "\n",
    "from transformers import GPT2Tokenizer, AutoModelForCausalLM, GPT2LMHeadModel, AutoTokenizer\n",
    "from transformers import TrainingArguments, Trainer\n",
    "\n",
    "from peft import LoraConfig, get_peft_model\n",
    "\n",
    "from datasets import load_dataset\n",
    "\n",
    "device=\"cuda\""
   ]
  },
  {
   "cell_type": "code",
   "execution_count": 8,
   "metadata": {},
   "outputs": [],
   "source": [
    "tokenizer = AutoTokenizer.from_pretrained(\"gpt2\")\n",
    "tokenizer.pad_token = tokenizer.eos_token"
   ]
  },
  {
   "cell_type": "code",
   "execution_count": 9,
   "metadata": {},
   "outputs": [],
   "source": [
    "config = {\n",
    "    \"emb_dim\" : 768,\n",
    "    \"letter_emb_dim\": 1024,\n",
    "    \"vocab_size\" : tokenizer.vocab_size,\n",
    "    \"save_path\": \"./models/v4_peft.pth\"\n",
    "}"
   ]
  },
  {
   "cell_type": "code",
   "execution_count": 10,
   "metadata": {},
   "outputs": [],
   "source": [
    "class Dataset(BaseDataset):\n",
    "    def __init__(self, tokenizer):\n",
    "        self.tokenizer = tokenizer\n",
    "        self.data = load_dataset(\"csv\", data_files=\"dataset.csv\")[\"train\"]\n",
    "\n",
    "    def __getitem__(self, ix):\n",
    "        item = self.data[ix]\n",
    "        return item\n",
    "\n",
    "\n",
    "    def __len__(self, ):\n",
    "        return len(self.data)\n"
   ]
  },
  {
   "cell_type": "code",
   "execution_count": 11,
   "metadata": {},
   "outputs": [],
   "source": [
    "class CustomCollator:\n",
    "    def __call__(self, batch):\n",
    "        titles = [item[\"title\"] for item in batch if item is not None]\n",
    "        ctx_embs = torch.tensor([json.loads(item[\"context_embedding\"]) for item in batch if item is not None], dtype=torch.float)\n",
    "\n",
    "        tokenized_title = tokenizer(titles,\n",
    "                  padding=\"longest\",\n",
    "                  truncation=True,\n",
    "                  return_tensors=\"pt\")\n",
    "        \n",
    "        attention_mask = torch.stack([torch.cat([torch.tensor([1,], dtype=torch.long), mask], dim=-1) for mask in tokenized_title[\"attention_mask\"]]).to(device)\n",
    "\n",
    "        input_ids = tokenized_title[\"input_ids\"][:, :-1].long()\n",
    "        targets = tokenized_title[\"input_ids\"]\n",
    "        targets = targets.masked_fill(targets == tokenizer.pad_token_id, -100)\n",
    "\n",
    "        return {\n",
    "            \"attention_mask\": attention_mask[:, :-1].to(device),\n",
    "            \"letter_emb\": ctx_embs.to(device),\n",
    "            \"input_ids\": input_ids.to(device),\n",
    "            \"label\": targets.to(device)\n",
    "        }\n",
    "\n",
    "dataset = Dataset(tokenizer)\n",
    "collator_fn = CustomCollator()"
   ]
  },
  {
   "cell_type": "code",
   "execution_count": 6,
   "metadata": {},
   "outputs": [
    {
     "name": "stdout",
     "output_type": "stream",
     "text": [
      "number of trainable params: 42270208\n"
     ]
    }
   ],
   "source": [
    "class Model(nn.Module):\n",
    "\n",
    "    def __init__(self, tokenizer, config):\n",
    "        super().__init__()\n",
    "        self.tokenizer = tokenizer\n",
    "        self.letter_projection = nn.Sequential(nn.Linear(config[\"letter_emb_dim\"], config[\"letter_emb_dim\"] * 2),\n",
    "                                                nn.Linear(config[\"letter_emb_dim\"] * 2, config[\"emb_dim\"]))\n",
    "        self.gpt = AutoModelForCausalLM.from_pretrained(\"gpt2\")\n",
    "        tp = 0\n",
    "        for p in self.letter_projection.parameters():\n",
    "            tp += p.numel()\n",
    "            p.requires_grad=True\n",
    "        for p in self.gpt.lm_head.parameters():\n",
    "            tp += p.numel()\n",
    "            p.requires_grad=True\n",
    "\n",
    "        print(\"number of trainable params:\", tp)\n",
    "\n",
    "    @classmethod\n",
    "    def from_pretrained(cls, tokenizer, config):\n",
    "        print(\"check model existance...\")\n",
    "        if os.path.isfile(config[\"save_path\"]):\n",
    "            print(\"Loading the model...\")\n",
    "            self = cls(tokenizer, config)\n",
    "            self.load_state_dict(torch.load(config[\"save_path\"], weights_only=True))\n",
    "            print(\"loaded successfully!\")\n",
    "        else:\n",
    "            print(f\"couldn't find the {config['save_path']} file!\")\n",
    "            print(\"Creating a new model...\")\n",
    "            self = cls(tokenizer, config)\n",
    "        return self\n",
    "\n",
    "    def save(self, ):\n",
    "        torch.save(self.state_dict(), config[\"save_path\"])\n",
    "        print(f\"Model saved at {config['save_path']}!\")\n",
    "    \n",
    "    def forward(self, attention_mask, letter_emb, input_ids, label):\n",
    "        letter_emb = self.letter_projection(letter_emb).unsqueeze(1)\n",
    "        x = self.gpt.transformer.wte(input_ids)\n",
    "        x += self.gpt.transformer.wpe(torch.arange(x.shape[1]).to(device))\n",
    "        x = torch.cat([letter_emb, x], dim=1)\n",
    "\n",
    "        output = self.gpt(inputs_embeds=x,\n",
    "            attention_mask=attention_mask,\n",
    "            return_dict=True,\n",
    "            labels=label\n",
    "        )\n",
    "        return output\n",
    "\n",
    "    \n",
    "    @torch.no_grad\n",
    "    def generate(self, letter_emb):\n",
    "        model.eval()\n",
    "        letter_emb = torch.tensor(json.loads(letter_emb)).view(1,1,-1).to(device)\n",
    "        letter_emb = self.letter_projection(letter_emb)\n",
    "        output = model.gpt.generate(\n",
    "        inputs_embeds=letter_emb,\n",
    "        attention_mask=torch.ones((1, 1), dtype=torch.long).to(device),\n",
    "        do_sample=True,\n",
    "        top_p=0.9,\n",
    "        temperature=0.9,\n",
    "        num_beams=5,\n",
    "        max_length=128,\n",
    "        min_length=1,\n",
    "        repetition_penalty=1.0,\n",
    "        length_penalty=1.0,\n",
    "        num_return_sequences=1,)\n",
    "\n",
    "model = Model(tokenizer, config)\n",
    "model.to(device);"
   ]
  },
  {
   "cell_type": "code",
   "execution_count": null,
   "metadata": {},
   "outputs": [],
   "source": [
    "# peft_config = LoraConfig(\n",
    "#     r=8,\n",
    "#     lora_alpha=32,\n",
    "#     target_modules=[\"k_proj\", \"q_proj\"],\n",
    "#     lora_dropout=0.1,\n",
    "#     task_type=\"CAUSAL_LM\"\n",
    "# )\n",
    "\n",
    "# model.gpt = get_peft_model(model.gpt, peft_config)\n",
    "\n",
    "# model.gpt.print_trainable_parameters()"
   ]
  },
  {
   "cell_type": "code",
   "execution_count": null,
   "metadata": {},
   "outputs": [],
   "source": [
    "train_args = TrainingArguments(\n",
    "    output_dir=\"./cache/\",\n",
    "    learning_rate=1e-3,\n",
    "    per_device_train_batch_size=8,\n",
    "    gradient_accumulation_steps=32,\n",
    "    num_train_epochs=10,\n",
    "    weight_decay=0.01,\n",
    "    lr_scheduler_type=\"linear\",\n",
    "    save_strategy=\"epoch\",\n",
    "    logging_steps=10,\n",
    "    logging_strategy=\"steps\",\n",
    "    remove_unused_columns=False,\n",
    "    dataloader_pin_memory=False,\n",
    "    save_safetensors=False,\n",
    "    fp16=True\n",
    ")\n",
    "\n",
    "trainer = Trainer(model=model,\n",
    "        args=train_args,\n",
    "        data_collator=collator_fn,\n",
    "        train_dataset=dataset)"
   ]
  },
  {
   "cell_type": "code",
   "execution_count": 9,
   "metadata": {},
   "outputs": [
    {
     "name": "stderr",
     "output_type": "stream",
     "text": [
      "`loss_type=None` was set in the config but it is unrecognised.Using the default loss: `ForCausalLMLoss`.\n"
     ]
    },
    {
     "data": {
      "text/html": [
       "\n",
       "    <div>\n",
       "      \n",
       "      <progress value='114' max='114' style='width:300px; height:20px; vertical-align: middle;'></progress>\n",
       "      [114/114 02:30, Epoch 5/6]\n",
       "    </div>\n",
       "    <table border=\"1\" class=\"dataframe\">\n",
       "  <thead>\n",
       " <tr style=\"text-align: left;\">\n",
       "      <th>Step</th>\n",
       "      <th>Training Loss</th>\n",
       "    </tr>\n",
       "  </thead>\n",
       "  <tbody>\n",
       "    <tr>\n",
       "      <td>10</td>\n",
       "      <td>5.082700</td>\n",
       "    </tr>\n",
       "    <tr>\n",
       "      <td>20</td>\n",
       "      <td>3.635200</td>\n",
       "    </tr>\n",
       "    <tr>\n",
       "      <td>30</td>\n",
       "      <td>3.295000</td>\n",
       "    </tr>\n",
       "    <tr>\n",
       "      <td>40</td>\n",
       "      <td>3.094300</td>\n",
       "    </tr>\n",
       "    <tr>\n",
       "      <td>50</td>\n",
       "      <td>2.766500</td>\n",
       "    </tr>\n",
       "    <tr>\n",
       "      <td>60</td>\n",
       "      <td>2.526200</td>\n",
       "    </tr>\n",
       "    <tr>\n",
       "      <td>70</td>\n",
       "      <td>2.233300</td>\n",
       "    </tr>\n",
       "    <tr>\n",
       "      <td>80</td>\n",
       "      <td>2.081700</td>\n",
       "    </tr>\n",
       "    <tr>\n",
       "      <td>90</td>\n",
       "      <td>1.828900</td>\n",
       "    </tr>\n",
       "    <tr>\n",
       "      <td>100</td>\n",
       "      <td>1.695600</td>\n",
       "    </tr>\n",
       "    <tr>\n",
       "      <td>110</td>\n",
       "      <td>1.573700</td>\n",
       "    </tr>\n",
       "  </tbody>\n",
       "</table><p>"
      ],
      "text/plain": [
       "<IPython.core.display.HTML object>"
      ]
     },
     "metadata": {},
     "output_type": "display_data"
    },
    {
     "name": "stdout",
     "output_type": "stream",
     "text": [
      "Model saved at ./models/v4_peft.pth!\n"
     ]
    }
   ],
   "source": [
    "trainer.train()\n",
    "model.save()"
   ]
  },
  {
   "cell_type": "code",
   "execution_count": 11,
   "metadata": {},
   "outputs": [
    {
     "name": "stderr",
     "output_type": "stream",
     "text": [
      "Setting `pad_token_id` to `eos_token_id`:9 for open-end generation.\n"
     ]
    },
    {
     "data": {
      "text/plain": [
       "'گزارش  گزارش  گزارش گزارش    عنوان گزارش  گزارش گزارش گزارش   گزارش  گزارش   گزارش بروزرسانی گزارش   گزارش       گزارش   گزارش عنوان گزارش گزارش  راه   گزارش عنوان گزارش گزارش گزارش گزارش  گزارش گزارش  گزارش  گزارش  گزارش   گزارش گزارش     گزارش گزارش گزارش راه  گزارش  گزارش گزارش  گزارش   گزارش  عنوان کنترل    گزارش گزارش گزارش گزارش گزارش گزارش گزارش   گزارش   عنوان گزارش  گزارش    گزارش گزارش گزارش   گزارش گزارش گزارش     گزارش  عنوان گزارش گزارش   '"
      ]
     },
     "execution_count": 11,
     "metadata": {},
     "output_type": "execute_result"
    }
   ],
   "source": [
    "''.join(model.generate(dataset[0][\"context_embedding\"]), )"
   ]
  },
  {
   "cell_type": "code",
   "execution_count": 12,
   "metadata": {},
   "outputs": [],
   "source": [
    "ix = 10\n",
    "sample_data = dataset[ix]"
   ]
  },
  {
   "cell_type": "code",
   "execution_count": 4,
   "metadata": {},
   "outputs": [
    {
     "ename": "NameError",
     "evalue": "name 'dataset' is not defined",
     "output_type": "error",
     "traceback": [
      "\u001b[0;31m---------------------------------------------------------------------------\u001b[0m",
      "\u001b[0;31mNameError\u001b[0m                                 Traceback (most recent call last)",
      "Cell \u001b[0;32mIn[4], line 2\u001b[0m\n\u001b[1;32m      1\u001b[0m ix \u001b[38;5;241m=\u001b[39m \u001b[38;5;241m10\u001b[39m\n\u001b[0;32m----> 2\u001b[0m sample_data \u001b[38;5;241m=\u001b[39m \u001b[43mdataset\u001b[49m[ix]\n\u001b[1;32m      3\u001b[0m \u001b[38;5;28;01mwith\u001b[39;00m torch\u001b[38;5;241m.\u001b[39mno_grad():\n\u001b[1;32m      4\u001b[0m     model\u001b[38;5;241m.\u001b[39meval()\n",
      "\u001b[0;31mNameError\u001b[0m: name 'dataset' is not defined"
     ]
    }
   ],
   "source": [
    "with torch.no_grad():\n",
    "    model.eval()\n",
    "    letter_emb = model.letter_projection(torch.tensor(json.loads(sample_data[\"context_embedding\"])).to(device).view(1, 1,-1))\n",
    "    output = model.gpt.generate(\n",
    "        inputs_embeds=letter_emb,\n",
    "        attention_mask=torch.ones((1, 1), dtype=torch.long).to(device),\n",
    "        do_sample=True,\n",
    "        top_p=0.9,\n",
    "        temperature=0.9,\n",
    "        num_beams=5,\n",
    "        max_length=24,\n",
    "        min_length=1,\n",
    "        repetition_penalty=1.0,\n",
    "        length_penalty=1.0,\n",
    "        num_return_sequences=1,\n",
    "    )\n",
    "\n",
    "    output_ids = tokenizer.batch_decode(output, skip_special_tokens=True)\n",
    "    print('Generated title:', ''.join(output_ids))\n",
    "    print('True title:', sample_data[\"title\"])\n",
    "    print('context:', sample_data[\"context\"])"
   ]
  },
  {
   "cell_type": "code",
   "execution_count": 17,
   "metadata": {},
   "outputs": [
    {
     "data": {
      "text/plain": [
       "50257"
      ]
     },
     "execution_count": 17,
     "metadata": {},
     "output_type": "execute_result"
    }
   ],
   "source": [
    "tokenizer.vocab_size"
   ]
  }
 ],
 "metadata": {
  "kernelspec": {
   "display_name": "venv",
   "language": "python",
   "name": "python3"
  },
  "language_info": {
   "codemirror_mode": {
    "name": "ipython",
    "version": 3
   },
   "file_extension": ".py",
   "mimetype": "text/x-python",
   "name": "python",
   "nbconvert_exporter": "python",
   "pygments_lexer": "ipython3",
   "version": "3.10.12"
  }
 },
 "nbformat": 4,
 "nbformat_minor": 4
}
